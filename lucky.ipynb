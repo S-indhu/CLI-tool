{
  "nbformat": 4,
  "nbformat_minor": 0,
  "metadata": {
    "colab": {
      "provenance": [],
      "authorship_tag": "ABX9TyPCElBHE/eSxfqBvu8ZAkb4",
      "include_colab_link": true
    },
    "kernelspec": {
      "name": "python3",
      "display_name": "Python 3"
    },
    "language_info": {
      "name": "python"
    }
  },
  "cells": [
    {
      "cell_type": "markdown",
      "metadata": {
        "id": "view-in-github",
        "colab_type": "text"
      },
      "source": [
        "<a href=\"https://colab.research.google.com/github/S-indhu/CLI-tool/blob/main/lucky.ipynb\" target=\"_parent\"><img src=\"https://colab.research.google.com/assets/colab-badge.svg\" alt=\"Open In Colab\"/></a>"
      ]
    },
    {
      "cell_type": "code",
      "execution_count": null,
      "metadata": {
        "colab": {
          "base_uri": "https://localhost:8080/"
        },
        "id": "Q2Fd8nvr19TB",
        "outputId": "d2dba8ce-4283-46ba-fd78-645598ac78e3"
      },
      "outputs": [
        {
          "name": "stdout",
          "output_type": "stream",
          "text": [
            "\n",
            "To-Do List Manager\n",
            "1. Add Task\n",
            "2. Update Task\n",
            "3. Delete Task\n",
            "4. List Tasks\n",
            "5. Exit\n",
            "Choose an option (1-5): 1\n",
            "Enter the task description: update\n",
            "Task added: \"update\"\n",
            "\n",
            "To-Do List Manager\n",
            "1. Add Task\n",
            "2. Update Task\n",
            "3. Delete Task\n",
            "4. List Tasks\n",
            "5. Exit\n",
            "Choose an option (1-5): 1\n"
          ]
        }
      ],
      "source": [
        "import json\n",
        "import os\n",
        "\n",
        "# Define the filename for storing tasks\n",
        "TASKS_FILE = 'tasks.json'\n",
        "\n",
        "# Load tasks from the JSON file\n",
        "def load_tasks():\n",
        "    if os.path.exists(TASKS_FILE):\n",
        "        with open(TASKS_FILE, 'r') as file:\n",
        "            return json.load(file)\n",
        "    return []\n",
        "\n",
        "# Save tasks to the JSON file\n",
        "def save_tasks(tasks):\n",
        "    with open(TASKS_FILE, 'w') as file:\n",
        "        json.dump(tasks, file)\n",
        "\n",
        "# Add a new task\n",
        "def add_task(task):\n",
        "    tasks = load_tasks()\n",
        "    tasks.append({'task': task, 'completed': False})\n",
        "    save_tasks(tasks)\n",
        "    print(f'Task added: \"{task}\"')\n",
        "\n",
        "# Update an existing task\n",
        "def update_task(task_id, new_task):\n",
        "    tasks = load_tasks()\n",
        "    if 0 <= task_id < len(tasks):\n",
        "        tasks[task_id]['task'] = new_task\n",
        "        save_tasks(tasks)\n",
        "        print(f'Task {task_id} updated to: \"{new_task}\"')\n",
        "    else:\n",
        "        print(f'Task ID {task_id} not found.')\n",
        "\n",
        "# Delete a task\n",
        "def delete_task(task_id):\n",
        "    tasks = load_tasks()\n",
        "    if 0 <= task_id < len(tasks):\n",
        "        removed_task = tasks.pop(task_id)\n",
        "        save_tasks(tasks)\n",
        "        print(f'Task removed: \"{removed_task[\"task\"]}\"')\n",
        "    else:\n",
        "        print(f'Task ID {task_id} not found.')\n",
        "\n",
        "# List all tasks\n",
        "def list_tasks():\n",
        "    tasks = load_tasks()\n",
        "    if not tasks:\n",
        "        print(\"No tasks found.\")\n",
        "    else:\n",
        "        for i, task in enumerate(tasks):\n",
        "            status = \"✓\" if task['completed'] else \"✗\"\n",
        "            print(f\"{i}: [{status}] {task['task']}\")\n",
        "\n",
        "# Main function to interact with the user\n",
        "def main():\n",
        "    while True:\n",
        "        print(\"\\nTo-Do List Manager\")\n",
        "        print(\"1. Add Task\")\n",
        "        print(\"2. Update Task\")\n",
        "        print(\"3. Delete Task\")\n",
        "        print(\"4. List Tasks\")\n",
        "        print(\"5. Exit\")\n",
        "\n",
        "        choice = input(\"Choose an option (1-5): \")\n",
        "\n",
        "        if choice == '1':\n",
        "            task = input(\"Enter the task description: \")\n",
        "            add_task(task)\n",
        "        elif choice == '2':\n",
        "            task_id = int(input(\"Enter the task ID to update: \"))\n",
        "            new_task = input(\"Enter the new task description: \")\n",
        "            update_task(task_id, new_task)\n",
        "        elif choice == '3':\n",
        "            task_id = int(input(\"Enter the task ID to delete: \"))\n",
        "            delete_task(task_id)\n",
        "        elif choice == '4':\n",
        "            list_tasks()\n",
        "        elif choice == '5':\n",
        "            print(\"Exiting the To-Do List Manager.\")\n",
        "            break\n",
        "        else:\n",
        "            print(\"Invalid choice. Please try again.\")\n",
        "\n",
        "# Run the main function\n",
        "main()"
      ]
    },
    {
      "cell_type": "code",
      "source": [],
      "metadata": {
        "id": "1tYuZ8gI1_e0"
      },
      "execution_count": null,
      "outputs": []
    }
  ]
}